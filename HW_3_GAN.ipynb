{
 "cells": [
  {
   "cell_type": "markdown",
   "metadata": {
    "_cell_guid": "b1076dfc-b9ad-4769-8c92-a6c4dae69d19",
    "_uuid": "8f2839f25d086af736a60e9eeb907d3b93b6e0e5",
    "execution": {
     "iopub.execute_input": "2021-12-21T05:37:20.098066Z",
     "iopub.status.busy": "2021-12-21T05:37:20.097713Z",
     "iopub.status.idle": "2021-12-21T05:37:36.757368Z",
     "shell.execute_reply": "2021-12-21T05:37:36.756458Z",
     "shell.execute_reply.started": "2021-12-21T05:37:20.097956Z"
    }
   },
   "source": [
    "# RL and Advanced DL: Домашнее задание 3"
   ]
  },
  {
   "cell_type": "code",
   "execution_count": 2,
   "metadata": {
    "execution": {
     "iopub.execute_input": "2021-12-21T05:37:37.579641Z",
     "iopub.status.busy": "2021-12-21T05:37:37.578954Z",
     "iopub.status.idle": "2021-12-21T05:37:39.505669Z",
     "shell.execute_reply": "2021-12-21T05:37:39.504974Z",
     "shell.execute_reply.started": "2021-12-21T05:37:37.579603Z"
    }
   },
   "outputs": [],
   "source": [
    "from glob import glob\n",
    "import itertools\n",
    "import random\n",
    "\n",
    "import torch\n",
    "import torch.nn as nn\n",
    "import torch.nn.functional as F\n",
    "from torch.autograd import Variable\n",
    "\n",
    "from PIL import Image\n",
    "from torchvision import transforms, utils\n",
    "from IPython.display import display"
   ]
  },
  {
   "cell_type": "markdown",
   "metadata": {},
   "source": [
    "## Часть первая: перенос стиля при помощи pix2pix\n",
    "В этом задании мы будем реализовывать перенос стиля на спаренных данных (paired data). Из стандартных датасетов я выбрал самый маленький -- давайте реализуем перенос стиля из масок сегментации в “настоящие фотографии” для конкретного случая фасадов домов\n",
    "\n",
    "В первой части подразумевается реализация pix2pix архитектуры, т.е. генератора и дискриминатора, которые получают на вход условие в виде изображения исходного стиля (подробнее см. лекцию и собственно Isola et al., 2016)"
   ]
  },
  {
   "cell_type": "code",
   "execution_count": 16,
   "metadata": {
    "execution": {
     "iopub.execute_input": "2021-12-21T05:52:13.706355Z",
     "iopub.status.busy": "2021-12-21T05:52:13.705891Z",
     "iopub.status.idle": "2021-12-21T05:52:13.729679Z",
     "shell.execute_reply": "2021-12-21T05:52:13.729044Z",
     "shell.execute_reply.started": "2021-12-21T05:52:13.706294Z"
    }
   },
   "outputs": [],
   "source": [
    "def encoder_layer(in_channel, out_channel, batchnorm=True):\n",
    "    if batchnorm:\n",
    "        layer = nn.Sequential(\n",
    "            nn.Conv2d(in_channel, out_channel, kernel_size=3, padding=1),\n",
    "            nn.InstanceNorm2d(out_channel, affine=True),\n",
    "            nn.LeakyReLU(negative_slope=0.2, inplace=True),          \n",
    "        )\n",
    "    else:\n",
    "        layer = nn.Sequential(\n",
    "            nn.Conv2d(in_channel, out_channel, kernel_size=3, padding=1),\n",
    "            nn.LeakyReLU(negative_slope=0.2, inplace=True),\n",
    "        )        \n",
    "    return layer\n",
    "\n",
    "def decoder_layer(in_channel, out_channel, dropout=True):\n",
    "    if dropout:      \n",
    "        layer = nn.Sequential(\n",
    "            nn.Conv2d(in_channel, out_channel, kernel_size=3, padding=1),\n",
    "            nn.InstanceNorm2d(out_channel, affine=True),\n",
    "            nn.Dropout2d(p=0.5, inplace=True),\n",
    "            #nn.ReLU(inplace=True),\n",
    "            nn.LeakyReLU(negative_slope=0.2, inplace=True),          \n",
    "        )\n",
    "    else:\n",
    "        layer = nn.Sequential(\n",
    "            nn.Conv2d(in_channel, out_channel, kernel_size=3, padding=1),\n",
    "            nn.InstanceNorm2d(out_channel, affine=True),\n",
    "            #nn.ReLU(inplace=True),\n",
    "            nn.LeakyReLU(negative_slope=0.2, inplace=True),\n",
    "        )        \n",
    "    \n",
    "    return layer"
   ]
  },
  {
   "cell_type": "code",
   "execution_count": 24,
   "metadata": {
    "execution": {
     "iopub.execute_input": "2021-12-21T05:56:37.684757Z",
     "iopub.status.busy": "2021-12-21T05:56:37.684512Z",
     "iopub.status.idle": "2021-12-21T05:56:37.705247Z",
     "shell.execute_reply": "2021-12-21T05:56:37.704362Z",
     "shell.execute_reply.started": "2021-12-21T05:56:37.684727Z"
    }
   },
   "outputs": [],
   "source": [
    "class DefineUnet(nn.Module):\n",
    "    def __init__(self, in_image=3, filter_size=64):\n",
    "        super().__init__()\n",
    "        self.enc = nn.MaxPool2d(kernel_size=2)\n",
    "        self.dec = nn.Upsample(scale_factor=2, mode='bilinear', align_corners=True)        \n",
    "        \n",
    "        self.enc1 = encoder_layer(in_image, filter_size)\n",
    "        self.enc2 = encoder_layer(filter_size, filter_size * 2)\n",
    "        self.enc3 = encoder_layer(filter_size * 2, filter_size * 4)\n",
    "        self.enc4 = encoder_layer(filter_size * 4, filter_size * 8)\n",
    "        self.enc5 = encoder_layer(filter_size * 8, filter_size * 8)\n",
    "        self.enc6 = encoder_layer(filter_size * 8, filter_size * 16)\n",
    "        \n",
    "        self.dec1 = decoder_layer(filter_size * 16 + filter_size * 8, filter_size * 8)\n",
    "        self.dec2 = decoder_layer(filter_size * 8  + filter_size * 8, filter_size * 8)\n",
    "        self.dec3 = decoder_layer(filter_size * 4 + filter_size * 8, filter_size * 4)\n",
    "        self.dec4 = decoder_layer(filter_size * 4 + filter_size * 2, filter_size * 2)\n",
    "        self.dec5 = decoder_layer(filter_size * 2 + filter_size, filter_size)\n",
    "        self.dec6 = nn.Conv2d(64, 3, kernel_size=1)#decoder_layer(filter_size, in_image) #nn.conv2d(64, 3, kernel_size=1)\n",
    "        \n",
    "        \n",
    "    def forward(self, x):\n",
    "        out1 = self.enc1(x)\n",
    "        x = self.enc(out1) #dropout?\n",
    "        out2 = self.enc2(x)\n",
    "        x = self.enc(out2)\n",
    "        out3 = self.enc3(x)\n",
    "        x = self.enc(out3)\n",
    "        out4 = self.enc4(x)\n",
    "        x = self.enc(out4)\n",
    "        out5 = self.enc5(x)\n",
    "        x = self.enc(out5)\n",
    "        x = self.enc6(x)\n",
    "        \n",
    "        x = self.dec(x)\n",
    "        x = self.dec1(torch.cat([x, out5], dim=1))\n",
    "        x = self.dec(x)\n",
    "        x = self.dec2(torch.cat([x, out4], dim=1))\n",
    "        x = self.dec(x)\n",
    "        x = self.dec3(torch.cat([x, out3], dim=1))\n",
    "        x = self.dec(x)\n",
    "        x = self.dec4(torch.cat([x, out2], dim=1))\n",
    "        x = self.dec(x)\n",
    "        x = self.dec5(torch.cat([x, out1], dim=1))\n",
    "        x = torch.sigmoid(self.dec6(x))\n",
    "        \n",
    "        return x\n",
    "    \n",
    "    \n",
    "class Discriminator(nn.Module):\n",
    "    def __init__(self, in_image=6, filter_size=64):\n",
    "        super().__init__()\n",
    "        self.enc = nn.MaxPool2d(kernel_size=2)\n",
    "        self.pooling = nn.AdaptiveAvgPool2d((1,1))\n",
    "        self.enc1 = encoder_layer(in_image, filter_size)\n",
    "        self.enc2 = encoder_layer(filter_size, filter_size * 2)\n",
    "        self.enc3 = encoder_layer(filter_size * 2, filter_size * 4)\n",
    "        self.enc4 = encoder_layer(filter_size * 4, filter_size * 8)        \n",
    "        self.linear = nn.Linear(filter_size * 8, 2)\n",
    "        \n",
    "    def forward(self, x1, x2):\n",
    "        out1 = self.enc1(torch.cat([x1, x2], dim=1))\n",
    "        x = self.enc(out1) #dropout?\n",
    "        out2 = self.enc2(x)\n",
    "        x = self.enc(out2)\n",
    "        out3 = self.enc3(x)\n",
    "        x = self.enc(out3)\n",
    "        out4 = self.enc4(x)\n",
    "        x = self.pooling(self.enc(out4)).squeeze(-1).squeeze(-1)\n",
    "        \n",
    "        return self.linear(x)\n",
    "        "
   ]
  },
  {
   "cell_type": "code",
   "execution_count": 4,
   "metadata": {
    "execution": {
     "iopub.execute_input": "2021-12-21T05:37:44.199931Z",
     "iopub.status.busy": "2021-12-21T05:37:44.199450Z",
     "iopub.status.idle": "2021-12-21T05:37:44.212785Z",
     "shell.execute_reply": "2021-12-21T05:37:44.211812Z",
     "shell.execute_reply.started": "2021-12-21T05:37:44.199897Z"
    }
   },
   "outputs": [],
   "source": [
    "class Facades(torch.utils.data.Dataset):\n",
    "    def __init__(self, root_dir):\n",
    "        self.root_dir = root_dir\n",
    "        self.image = glob(self.root_dir + '/*.jpg')\n",
    "            \n",
    "    def __getitem__(self, idx):\n",
    "        img = Image.open(self.image[idx]).convert(\"RGB\")\n",
    "        return transforms.ToTensor()(img.crop((256, 0, 512, 256))), transforms.ToTensor()(img.crop((0, 0, 256, 256)))\n",
    "\n",
    "        \n",
    "    def __len__(self):\n",
    "        return len(self.image)\n",
    "    \n",
    "train_dataset = Facades(root_dir='/kaggle/working/facades/train')\n",
    "train_dataloader = torch.utils.data.DataLoader(train_dataset, batch_size=8, shuffle=True)\n",
    "\n",
    "test_dataset = Facades(root_dir='/kaggle/working/facades/train')\n",
    "test_dataloader = torch.utils.data.DataLoader(test_dataset, batch_size=8, shuffle=False)\n"
   ]
  },
  {
   "cell_type": "code",
   "execution_count": null,
   "metadata": {
    "execution": {
     "iopub.execute_input": "2021-12-21T05:56:45.368855Z",
     "iopub.status.busy": "2021-12-21T05:56:45.368580Z"
    }
   },
   "outputs": [],
   "source": [
    "from tqdm.notebook import tqdm\n",
    "\n",
    "N_EPOCH = 20\n",
    "LR = 0.0002\n",
    "BETA = (0.5, 0.999)\n",
    "STEP = 200\n",
    "L1_LAMBDA = 100\n",
    "generator = DefineUnet().to(device)\n",
    "gen_optim = torch.optim.Adam(generator.parameters(), lr=LR, betas=BETA)\n",
    "gen_scheduler = torch.optim.lr_scheduler.StepLR(gen_optim, STEP)\n",
    "discriminator = Discriminator().to(device)\n",
    "disc_optim = torch.optim.Adam(discriminator.parameters(), lr=LR, betas=BETA)\n",
    "disc_scheduler = torch.optim.lr_scheduler.StepLR(disc_optim, STEP)\n",
    "\n",
    "gen_history = list()\n",
    "disc_history = list()\n",
    "\n",
    "for i in tqdm(range(N_EPOCH)):\n",
    "    for batch in train_dataloader:       \n",
    "        batch[0] = batch[0].to(device)\n",
    "        batch[1] = batch[1].to(device)\n",
    "        \n",
    "        generator.eval()\n",
    "        discriminator.train()\n",
    "        new_image = generator(batch[0])\n",
    "        preds = discriminator(batch[0], new_image)\n",
    "        real = discriminator(batch[0], batch[1])\n",
    "        \n",
    "        disc_optim.zero_grad()\n",
    "        preds_loss = F.cross_entropy(preds, torch.zeros(preds.shape[0]).long().to(device))\n",
    "        real_loss = F.cross_entropy(real, torch.ones(preds.shape[0]).long().to(device))\n",
    "        \n",
    "        loss = 0.5 * (real_loss + preds_loss)\n",
    "        loss.backward()\n",
    "        disc_optim.step()\n",
    "        disc_history.append(loss.item())\n",
    "        \n",
    "        generator.train()\n",
    "        discriminator.eval()\n",
    "        \n",
    "        new_image = generator(batch[0])\n",
    "        preds = discriminator(batch[0], new_image)        \n",
    "        loss = F.cross_entropy(preds, torch.ones(preds.shape[0]).long().to(device))\n",
    "        loss = loss + L1_LAMBDA * F.l1_loss(new_image, batch[1])\n",
    "        gen_optim.zero_grad()\n",
    "        loss.backward()\n",
    "        gen_optim.step()\n",
    "        gen_history.append(loss.item())\n",
    "        \n",
    "    gen_scheduler.step()\n",
    "    disc_scheduler.step()   \n",
    "        "
   ]
  },
  {
   "cell_type": "code",
   "execution_count": null,
   "metadata": {
    "execution": {
     "iopub.execute_input": "2021-12-20T23:58:47.470648Z",
     "iopub.status.busy": "2021-12-20T23:58:47.470397Z",
     "iopub.status.idle": "2021-12-20T23:58:47.474374Z",
     "shell.execute_reply": "2021-12-20T23:58:47.473558Z",
     "shell.execute_reply.started": "2021-12-20T23:58:47.470622Z"
    }
   },
   "outputs": [],
   "source": [
    "import matplotlib.pyplot as plt"
   ]
  },
  {
   "cell_type": "code",
   "execution_count": null,
   "metadata": {
    "execution": {
     "iopub.execute_input": "2021-12-20T23:58:59.239044Z",
     "iopub.status.busy": "2021-12-20T23:58:59.238768Z",
     "iopub.status.idle": "2021-12-20T23:58:59.455734Z",
     "shell.execute_reply": "2021-12-20T23:58:59.454923Z",
     "shell.execute_reply.started": "2021-12-20T23:58:59.238995Z"
    }
   },
   "outputs": [],
   "source": [
    "plt.plot(gen_history)"
   ]
  },
  {
   "cell_type": "code",
   "execution_count": null,
   "metadata": {
    "execution": {
     "iopub.execute_input": "2021-12-20T23:59:15.602932Z",
     "iopub.status.busy": "2021-12-20T23:59:15.602681Z",
     "iopub.status.idle": "2021-12-20T23:59:15.794587Z",
     "shell.execute_reply": "2021-12-20T23:59:15.793861Z",
     "shell.execute_reply.started": "2021-12-20T23:59:15.602904Z"
    }
   },
   "outputs": [],
   "source": [
    "plt.plot(disc_history)"
   ]
  }
 ],
 "metadata": {
  "kernelspec": {
   "display_name": "Python 3 (ipykernel)",
   "language": "python",
   "name": "python3"
  },
  "language_info": {
   "codemirror_mode": {
    "name": "ipython",
    "version": 3
   },
   "file_extension": ".py",
   "mimetype": "text/x-python",
   "name": "python",
   "nbconvert_exporter": "python",
   "pygments_lexer": "ipython3",
   "version": "3.9.7"
  }
 },
 "nbformat": 4,
 "nbformat_minor": 4
}
