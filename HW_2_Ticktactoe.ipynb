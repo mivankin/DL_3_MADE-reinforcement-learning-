{
 "cells": [
  {
   "cell_type": "markdown",
   "metadata": {},
   "source": [
    "# RL and Advanced DL: Домашнее задание 2\n"
   ]
  },
  {
   "cell_type": "code",
   "execution_count": 1,
   "metadata": {},
   "outputs": [],
   "source": [
    "import numpy as np\n",
    "import gym\n",
    "import matplotlib.pyplot as plt\n",
    "from collections import defaultdict\n",
    "import matplotlib.pyplot as plt\n",
    "from tqdm.notebook import tqdm"
   ]
  },
  {
   "cell_type": "markdown",
   "metadata": {},
   "source": [
    "Второе домашнее задание опять посвящено игре; его базовая часть, надеюсь, не слишком большая, но я добавил опциональную часть, которая, думаю, должна быть достаточно интересной для любого слушателя. Как обычно, в качестве решения ожидается ссылка на jupyter-ноутбук на вашем github (или публичный, или с доступом для snikolenko); ссылку обязательно нужно прислать в виде сданного домашнего задания на портале Академии. Любые комментарии, новые идеи и рассуждения на тему, как всегда, категорически приветствуются."
   ]
  },
  {
   "cell_type": "markdown",
   "metadata": {},
   "source": [
    "## Часть первая: крестики-нолики при помощи Q-обучения"
   ]
  },
  {
   "cell_type": "markdown",
   "metadata": {},
   "source": [
    "В коде, прилагающемся к последней лекции про обучение с подкреплением, реализован Environment для крестиков-ноликов, в котором можно при инициализации указывать разные размеры доски и условия победы, а также функции для рисования, в том числе с указанием оценки различных действий. С этим окружением все задания и связаны.\n",
    "\n",
    "1) Реализуйте обычное (табличное) Q-обучение. Обучите стратегии крестиков и ноликов для доски 3х3.\n",
    "\n",
    "2) Попробуйте обучить стратегии крестиков и ноликов для доски 4х4 и/или 5х5.\n"
   ]
  },
  {
   "cell_type": "markdown",
   "metadata": {},
   "source": [
    "### 1) Реализуйте обычное (табличное) Q-обучение. Обучите стратегии крестиков и ноликов для доски 3х3."
   ]
  },
  {
   "cell_type": "markdown",
   "metadata": {},
   "source": [
    "Берем среду для крестиков ноликов"
   ]
  },
  {
   "cell_type": "code",
   "execution_count": 8,
   "metadata": {},
   "outputs": [],
   "source": [
    "N_ROWS, N_COLS, N_WIN = 3, 3, 3\n",
    "\n",
    "\n",
    "class TicTacToe(gym.Env):\n",
    "    def __init__(self, n_rows=N_ROWS, n_cols=N_COLS, n_win=N_WIN):\n",
    "        self.n_rows = n_rows\n",
    "        self.n_cols = n_cols\n",
    "        self.n_win = n_win\n",
    "\n",
    "        self.board = np.zeros((self.n_rows, self.n_cols), dtype=int)\n",
    "        self.gameOver = False\n",
    "        self.boardHash = None\n",
    "        # ход первого игрока\n",
    "        self.curTurn = 1\n",
    "        self.emptySpaces = None\n",
    "        \n",
    "        self.reset()\n",
    "\n",
    "    def getEmptySpaces(self):\n",
    "        if self.emptySpaces is None:\n",
    "            res = np.where(self.board == 0)\n",
    "            self.emptySpaces = np.array([ (i, j) for i,j in zip(res[0], res[1]) ])\n",
    "        return self.emptySpaces\n",
    "\n",
    "    def makeMove(self, player, i, j):\n",
    "        self.board[i, j] = player\n",
    "        self.emptySpaces = None\n",
    "        self.boardHash = None\n",
    "\n",
    "    def getHash(self):\n",
    "        if self.boardHash is None:\n",
    "            self.boardHash = ''.join(['%s' % (x+1) for x in self.board.reshape(self.n_rows * self.n_cols)])\n",
    "        return self.boardHash\n",
    "\n",
    "    def isTerminal(self):\n",
    "        # проверим, не закончилась ли игра\n",
    "        cur_marks, cur_p = np.where(self.board == self.curTurn), self.curTurn\n",
    "        for i,j in zip(cur_marks[0], cur_marks[1]):\n",
    "#             print((i,j))\n",
    "            win = False\n",
    "            if i <= self.n_rows - self.n_win:\n",
    "                if np.all(self.board[i:i+self.n_win, j] == cur_p):\n",
    "                    win = True\n",
    "            if not win:\n",
    "                if j <= self.n_cols - self.n_win:\n",
    "                    if np.all(self.board[i,j:j+self.n_win] == cur_p):\n",
    "                        win = True\n",
    "            if not win:\n",
    "                if i <= self.n_rows - self.n_win and j <= self.n_cols - self.n_win:\n",
    "                    if np.all(np.array([ self.board[i+k,j+k] == cur_p for k in range(self.n_win) ])):\n",
    "                        win = True\n",
    "            if not win:\n",
    "                if i <= self.n_rows - self.n_win and j >= self.n_win-1:\n",
    "                    if np.all(np.array([ self.board[i+k,j-k] == cur_p for k in range(self.n_win) ])):\n",
    "                        win = True\n",
    "            if win:\n",
    "                self.gameOver = True\n",
    "                return self.curTurn\n",
    "\n",
    "        if len(self.getEmptySpaces()) == 0:\n",
    "            self.gameOver = True\n",
    "            return 0\n",
    "\n",
    "        self.gameOver = False\n",
    "        return None\n",
    "\n",
    "    def printBoard(self):\n",
    "        for i in range(0, self.n_rows):\n",
    "            print('----'*(self.n_cols)+'-')\n",
    "            out = '| '\n",
    "            for j in range(0, self.n_cols):\n",
    "                if self.board[i, j] == 1:\n",
    "                    token = 'x'\n",
    "                if self.board[i, j] == -1:\n",
    "                    token = 'o'\n",
    "                if self.board[i, j] == 0:\n",
    "                    token = ' '\n",
    "                out += token + ' | '\n",
    "            print(out)\n",
    "        print('----'*(self.n_cols)+'-')\n",
    "\n",
    "    def getState(self):\n",
    "        return (self.getHash(), self.getEmptySpaces(), self.curTurn)\n",
    "\n",
    "    def action_from_int(self, action_int):\n",
    "        return ( int(action_int / self.n_cols), int(action_int % self.n_cols))\n",
    "\n",
    "    def int_from_action(self, action):\n",
    "        return action[0] * self.n_cols + action[1]\n",
    "    \n",
    "    def step(self, action):\n",
    "        if self.board[action[0], action[1]] != 0:\n",
    "            return self.getState(), -10, True, {}\n",
    "        self.makeMove(self.curTurn, action[0], action[1])\n",
    "        reward = self.isTerminal()\n",
    "        self.curTurn = -self.curTurn\n",
    "        return self.getState(), 0 if reward is None else reward, reward is not None, {}\n",
    "\n",
    "    def reset(self):\n",
    "        self.board = np.zeros((self.n_rows, self.n_cols), dtype=int)\n",
    "        self.boardHash = None\n",
    "        self.gameOver = False\n",
    "        self.emptySpaces = None\n",
    "        self.curTurn = 1\n",
    "        \n",
    "    def state_to_array(self):\n",
    "        current = self.getState()[0]\n",
    "        ans = list()\n",
    "        for i in range(self.n_rows * self.n_cols):\n",
    "            ans.append(int(current[i]))\n",
    "            \n",
    "        return ans"
   ]
  },
  {
   "cell_type": "markdown",
   "metadata": {},
   "source": [
    "Не долго думая, написал агента для Q learning на основе 1 домашнего задания"
   ]
  },
  {
   "cell_type": "code",
   "execution_count": 28,
   "metadata": {},
   "outputs": [],
   "source": [
    "import itertools\n",
    "\n",
    "#env = TicTacToeEnv(symbols=[2, 0], board_size=3, win_size=3)\n",
    "\n",
    "class Agent:\n",
    "    def __init__(self, tag=1, symbols=[2, 0], board_size=3, win_size=3, alpha=0.1, gamma=0.9):\n",
    "        self.alpha = alpha\n",
    "        self.gamma = gamma\n",
    "        self.tag = tag\n",
    "        self.Q_table = defaultdict(lambda:1)\n",
    "        self.board_size = board_size\n",
    "        self.win_size = win_size\n",
    "        stuff = [1]\n",
    "        stuff.append(symbols[0])\n",
    "        stuff.append(symbols[1])\n",
    "        self.history = list()\n",
    "        \n",
    "        #for subset in tqdm(itertools.combinations_with_replacement(stuff, self.board_size * self.board_size)):\n",
    "        #    if subset not in tqdm(self.Q_table.keys()):\n",
    "        #        self.Q_table[subset] = 1\n",
    "        #        for pos in tqdm(itertools.permutations(subset, self.board_size * self.board_size)):\n",
    "        #            self.Q_table[pos] = 1     \n",
    "                    \n",
    "                    \n",
    "    def get_action(self, state, action_area, eps):\n",
    "        posible_states = dict()\n",
    "        if np.random.random() < eps:\n",
    "            next_action = np.random.choice(list(action_area))\n",
    "            action_area.remove(next_action)\n",
    "            new_state = state.copy()\n",
    "            new_state[next_action] = self.tag\n",
    "            self.history.append(tuple(new_state))\n",
    "        else:        \n",
    "            for i in range(len(state)):\n",
    "                if state[i] == 1:\n",
    "                    new_state = state.copy()\n",
    "                    new_state[i] = self.tag\n",
    "                    posible_states[tuple(new_state)] = self.Q_table[tuple(new_state)]\n",
    "\n",
    "            next_action = list(max(posible_states, key=posible_states.get))#next_action = list(posible_states.keys())[np.argmax(max(posible_states, key=posible_states.get))]\n",
    "        \n",
    "            self.history.append(tuple(next_action))\n",
    "            next_state = np.absolute(np.array(state) - np.array(next_action))\n",
    "\n",
    "            next_action = np.argmax(next_state)\n",
    "            action_area.remove(next_action)\n",
    "        \n",
    "        return next_action, action_area\n",
    "    \n",
    "    def update(self, reward):\n",
    "        for i in reversed(self.history):\n",
    "            reward = self.Q_table[i] + self.alpha * (reward - self.gamma * self.Q_table[i])\n",
    "            self.Q_table[i] = reward\n",
    "            \n",
    "        self.history = list()\n",
    "        "
   ]
  },
  {
   "cell_type": "markdown",
   "metadata": {},
   "source": [
    "Функция для обучения"
   ]
  },
  {
   "cell_type": "code",
   "execution_count": 29,
   "metadata": {},
   "outputs": [],
   "source": [
    "def sample_episode(env, agent_tic, agent_tac, eps_tic=0.2, eps_tac=0.2, render=True, batch_size=1):\n",
    "    rews1 = list()\n",
    "    rews2 = list()\n",
    "    for i in range(batch_size):\n",
    "        user = 0\n",
    "        done = False\n",
    "        reward = 0\n",
    "        state = env.reset()\n",
    "        action_area = set(np.arange(env.n_rows * env.n_cols))        \n",
    "        while not done:\n",
    "            if render:\n",
    "                env.render(mode=None)\n",
    "            if user == 0:\n",
    "                state = env.state_to_array()\n",
    "                #print(state, action_area)\n",
    "                choice, action_area = agent_tic.get_action(state, action_area, eps_tic)\n",
    "                state, reward, done, infos = env.step(env.action_from_int(choice))\n",
    "            elif user == 1:   \n",
    "                state = env.state_to_array()\n",
    "                #print(state, action_area)\n",
    "                choice, action_area = agent_tac.get_action(state, action_area, eps_tac)       \n",
    "                state, reward, done, infos = env.step(env.action_from_int(choice))\n",
    "\n",
    "            \n",
    "\n",
    "            #print(reward)\n",
    "            if not done:\n",
    "                user = 0 if user == 1 else 1\n",
    "            else :\n",
    "                if reward == 0:\n",
    "                    reward1 = 0.5\n",
    "                    reward2 = 0.5\n",
    "                    agent_tic.update(reward1)\n",
    "                    agent_tac.update(reward2)\n",
    "\n",
    "                elif reward == -1:\n",
    "                    reward1 = -1\n",
    "                    reward2 = 1\n",
    "                    agent_tic.update(reward1)\n",
    "                    agent_tac.update(reward2)\n",
    "\n",
    "                elif reward == 1:\n",
    "                    reward1 = 1\n",
    "                    reward2 = -1\n",
    "                    agent_tic.update(reward1)\n",
    "                    agent_tac.update(reward2)\n",
    "        \n",
    "        rews1.append(reward1)\n",
    "        rews2.append(reward2)\n",
    "    \n",
    "    return np.mean(rews1), np.mean(rews2)\n",
    "        "
   ]
  },
  {
   "cell_type": "code",
   "execution_count": 30,
   "metadata": {},
   "outputs": [],
   "source": [
    "env = TicTacToe(n_rows=3, n_cols=3, n_win=3)\n",
    "env.reset()"
   ]
  },
  {
   "cell_type": "code",
   "execution_count": 31,
   "metadata": {},
   "outputs": [],
   "source": [
    "agent_tic = Agent(tag=2) #-1\n",
    "agent_tac = Agent(tag=0) #1"
   ]
  },
  {
   "cell_type": "code",
   "execution_count": 32,
   "metadata": {
    "scrolled": true
   },
   "outputs": [
    {
     "data": {
      "application/vnd.jupyter.widget-view+json": {
       "model_id": "9ef5590a778a4975a17ea620acee9886",
       "version_major": 2,
       "version_minor": 0
      },
      "text/plain": [
       "HBox(children=(IntProgress(value=0, max=20000), HTML(value='')))"
      ]
     },
     "metadata": {},
     "output_type": "display_data"
    },
    {
     "name": "stdout",
     "output_type": "stream",
     "text": [
      "\n"
     ]
    }
   ],
   "source": [
    "n_episodes = 20000\n",
    "\n",
    "\n",
    "\n",
    "tic_rewards = list()\n",
    "tac_rewards = list()\n",
    "\n",
    "rews1 = list()\n",
    "rews2 = list()\n",
    "\n",
    "exploration_rate_tic = 1\n",
    "exploration_rate_tac = 1\n",
    "\n",
    "rew_cum1 = 0\n",
    "rew_cum2 = 0\n",
    "for i in tqdm(range(n_episodes)):\n",
    "    \n",
    "    if i % 100 == 0:\n",
    "        exploration_rate_tic -= 0.01\n",
    "        #exploration_rate_tac -= 0.01\n",
    "    \n",
    "    rew1, rew2 = sample_episode(env, agent_tic, agent_tac, exploration_rate_tic, exploration_rate_tac, render=False, batch_size=4)\n",
    "    rew_cum1 += rew1\n",
    "    rew_cum2 += rew2\n",
    "    rews1.append(rew1)\n",
    "    rews2.append(rew2)\n",
    "    tic_rewards.append(rew_cum1 / (i+1))\n",
    "    tac_rewards.append(rew_cum2 / (i+1))\n",
    "    \n"
   ]
  },
  {
   "cell_type": "markdown",
   "metadata": {},
   "source": [
    "График среднего выигрыша для крестиков против случайного выбора"
   ]
  },
  {
   "cell_type": "code",
   "execution_count": 33,
   "metadata": {},
   "outputs": [
    {
     "data": {
      "text/plain": [
       "[<matplotlib.lines.Line2D at 0x1bbc613e748>]"
      ]
     },
     "execution_count": 33,
     "metadata": {},
     "output_type": "execute_result"
    },
    {
     "data": {
      "image/png": "[encoded data removed]",
      "text/plain": [
       "<Figure size 432x288 with 1 Axes>"
      ]
     },
     "metadata": {
      "needs_background": "light"
     },
     "output_type": "display_data"
    }
   ],
   "source": [
    "plt.plot(tic_rewards)"
   ]
  },
  {
   "cell_type": "markdown",
   "metadata": {},
   "source": [
    "Теперь пробуем обучить играть ноликов против случайного соперника"
   ]
  },
  {
   "cell_type": "code",
   "execution_count": 16,
   "metadata": {},
   "outputs": [],
   "source": [
    "agent_tic = Agent(tag=2) #-1\n",
    "agent_tac = Agent(tag=0) #1"
   ]
  },
  {
   "cell_type": "code",
   "execution_count": 19,
   "metadata": {},
   "outputs": [
    {
     "data": {
      "application/vnd.jupyter.widget-view+json": {
       "model_id": "1f3d00cf2846440a87aa92b9a82c1916",
       "version_major": 2,
       "version_minor": 0
      },
      "text/plain": [
       "HBox(children=(FloatProgress(value=0.0, max=50000.0), HTML(value='')))"
      ]
     },
     "metadata": {},
     "output_type": "display_data"
    },
    {
     "name": "stdout",
     "output_type": "stream",
     "text": [
      "\n"
     ]
    }
   ],
   "source": [
    "n_episodes = 50000\n",
    "\n",
    "\n",
    "\n",
    "tic_rewards = list()\n",
    "tac_rewards = list()\n",
    "\n",
    "rews1 = list()\n",
    "rews2 = list()\n",
    "\n",
    "exploration_rate_tic = 1\n",
    "exploration_rate_tac = 1\n",
    "\n",
    "rew_cum1 = 0\n",
    "rew_cum2 = 0\n",
    "for i in tqdm(range(n_episodes)):\n",
    "    \n",
    "    if i % 100 == 0:\n",
    "        #exploration_rate_tic -= 0.01\n",
    "        exploration_rate_tac -= 0.01\n",
    "    \n",
    "    rew1, rew2 = sample_episode(env, agent_tic, agent_tac, exploration_rate_tic, exploration_rate_tac, render=False, batch_size=4)\n",
    "    rew_cum1 += rew1\n",
    "    rew_cum2 += rew2\n",
    "    rews1.append(rew1)\n",
    "    rews2.append(rew2)\n",
    "    tic_rewards.append(rew_cum1 / (i+1))\n",
    "    tac_rewards.append(rew_cum2 / (i+1))\n",
    "    \n"
   ]
  },
  {
   "cell_type": "markdown",
   "metadata": {},
   "source": [
    "График среднего выигрыша для ноликов"
   ]
  },
  {
   "cell_type": "code",
   "execution_count": 20,
   "metadata": {},
   "outputs": [
    {
     "data": {
      "text/plain": [
       "[<matplotlib.lines.Line2D at 0xa367280>]"
      ]
     },
     "execution_count": 20,
     "metadata": {},
     "output_type": "execute_result"
    },
    {
     "data": {
      "image/png": "[encoded data removed]",
      "text/plain": [
       "<Figure size 432x288 with 1 Axes>"
      ]
     },
     "metadata": {
      "needs_background": "light"
     },
     "output_type": "display_data"
    }
   ],
   "source": [
    "plt.plot(tac_rewards)"
   ]
  },
  {
   "cell_type": "markdown",
   "metadata": {},
   "source": [
    "### 2. Попробуйте обучить стратегии крестиков и ноликов для доски 4х4 и/или 5х5."
   ]
  },
  {
   "cell_type": "markdown",
   "metadata": {},
   "source": [
    "Попробуем обучить для доски 4x4"
   ]
  },
  {
   "cell_type": "code",
   "execution_count": 22,
   "metadata": {},
   "outputs": [],
   "source": [
    "env = TicTacToe(n_rows=4, n_cols=4, n_win=4)\n",
    "env.reset()\n",
    "agent_tic = Agent(tag=2, symbols=[2, 0], board_size=4, win_size=4, alpha=0.1, gamma=0.9) #-1\n",
    "agent_tac = Agent(tag=0, symbols=[2, 0], board_size=4, win_size=4, alpha=0.1, gamma=0.9) #1"
   ]
  },
  {
   "cell_type": "code",
   "execution_count": 25,
   "metadata": {},
   "outputs": [
    {
     "data": {
      "application/vnd.jupyter.widget-view+json": {
       "model_id": "41bc619d12584eed9e77806850230e32",
       "version_major": 2,
       "version_minor": 0
      },
      "text/plain": [
       "HBox(children=(IntProgress(value=0, max=100000), HTML(value='')))"
      ]
     },
     "metadata": {},
     "output_type": "display_data"
    },
    {
     "name": "stdout",
     "output_type": "stream",
     "text": [
      "\n"
     ]
    }
   ],
   "source": [
    "n_episodes = 100000\n",
    "\n",
    "\n",
    "\n",
    "tic_rewards = list()\n",
    "tac_rewards = list()\n",
    "\n",
    "rews1 = list()\n",
    "rews2 = list()\n",
    "\n",
    "exploration_rate_tic = 1\n",
    "exploration_rate_tac = 1\n",
    "\n",
    "rew_cum1 = 0\n",
    "rew_cum2 = 0\n",
    "for i in tqdm(range(n_episodes)):\n",
    "    \n",
    "    if i % 100 == 0:\n",
    "        exploration_rate_tic -= 0.01\n",
    "        #exploration_rate_tac -= 0.01\n",
    "    \n",
    "    rew1, rew2 = sample_episode(env, agent_tic, agent_tac, exploration_rate_tic, exploration_rate_tac, render=False, batch_size=4)\n",
    "    rew_cum1 += rew1\n",
    "    rew_cum2 += rew2\n",
    "    rews1.append(rew1)\n",
    "    rews2.append(rew2)\n",
    "    tic_rewards.append(rew_cum1 / (i+1))\n",
    "    tac_rewards.append(rew_cum2 / (i+1))\n",
    "    \n"
   ]
  },
  {
   "cell_type": "markdown",
   "metadata": {},
   "source": [
    "Средний выигрыш для крестиков против случайного соперника на доске 4x4"
   ]
  },
  {
   "cell_type": "code",
   "execution_count": 26,
   "metadata": {},
   "outputs": [
    {
     "data": {
      "text/plain": [
       "[<matplotlib.lines.Line2D at 0x237d181d2c8>]"
      ]
     },
     "execution_count": 26,
     "metadata": {},
     "output_type": "execute_result"
    },
    {
     "data": {
      "image/png": "[encoded data removed]",
      "text/plain": [
       "<Figure size 432x288 with 1 Axes>"
      ]
     },
     "metadata": {
      "needs_background": "light"
     },
     "output_type": "display_data"
    }
   ],
   "source": [
    "plt.plot(tic_rewards)"
   ]
  },
  {
   "cell_type": "markdown",
   "metadata": {},
   "source": [
    "Теперь обучим для доски 5x5"
   ]
  },
  {
   "cell_type": "code",
   "execution_count": 27,
   "metadata": {},
   "outputs": [],
   "source": [
    "env = TicTacToe(n_rows=5, n_cols=5, n_win=5)\n",
    "env.reset()\n",
    "agent_tic = Agent(tag=2, symbols=[2, 0], board_size=5, win_size=5, alpha=0.1, gamma=0.9) #-1\n",
    "agent_tac = Agent(tag=0, symbols=[2, 0], board_size=5, win_size=5, alpha=0.1, gamma=0.9) #1"
   ]
  },
  {
   "cell_type": "code",
   "execution_count": 28,
   "metadata": {},
   "outputs": [
    {
     "data": {
      "application/vnd.jupyter.widget-view+json": {
       "model_id": "399ceec0b2434b3f8c8610a00f1320cd",
       "version_major": 2,
       "version_minor": 0
      },
      "text/plain": [
       "HBox(children=(IntProgress(value=0, max=100000), HTML(value='')))"
      ]
     },
     "metadata": {},
     "output_type": "display_data"
    },
    {
     "name": "stdout",
     "output_type": "stream",
     "text": [
      "\n"
     ]
    }
   ],
   "source": [
    "n_episodes = 100000\n",
    "\n",
    "\n",
    "\n",
    "tic_rewards = list()\n",
    "tac_rewards = list()\n",
    "\n",
    "rews1 = list()\n",
    "rews2 = list()\n",
    "\n",
    "exploration_rate_tic = 1\n",
    "exploration_rate_tac = 1\n",
    "\n",
    "rew_cum1 = 0\n",
    "rew_cum2 = 0\n",
    "for i in tqdm(range(n_episodes)):\n",
    "    \n",
    "    if i % 100 == 0:\n",
    "        exploration_rate_tic -= 0.01\n",
    "        #exploration_rate_tac -= 0.01\n",
    "    \n",
    "    rew1, rew2 = sample_episode(env, agent_tic, agent_tac, exploration_rate_tic, exploration_rate_tac, render=False, batch_size=4)\n",
    "    rew_cum1 += rew1\n",
    "    rew_cum2 += rew2\n",
    "    rews1.append(rew1)\n",
    "    rews2.append(rew2)\n",
    "    tic_rewards.append(rew_cum1 / (i+1))\n",
    "    tac_rewards.append(rew_cum2 / (i+1))\n",
    "    \n"
   ]
  },
  {
   "cell_type": "markdown",
   "metadata": {},
   "source": [
    "Средний выигрыш для крестиков против случайного соперника на доске 5x5"
   ]
  },
  {
   "cell_type": "code",
   "execution_count": 29,
   "metadata": {},
   "outputs": [
    {
     "data": {
      "text/plain": [
       "[<matplotlib.lines.Line2D at 0x237e8dc3688>]"
      ]
     },
     "execution_count": 29,
     "metadata": {},
     "output_type": "execute_result"
    },
    {
     "data": {
      "image/png": "[encoded data removed]",
      "text/plain": [
       "<Figure size 432x288 with 1 Axes>"
      ]
     },
     "metadata": {
      "needs_background": "light"
     },
     "output_type": "display_data"
    }
   ],
   "source": [
    "plt.plot(tic_rewards)"
   ]
  },
  {
   "cell_type": "markdown",
   "metadata": {},
   "source": [
    "Если для доски 4 на 4 крестики имели средний выигрыш 0.6 (за победу 1) на 100к эпизодов, то на доске 5 на 5 средний выигрыш уже около 0.4. Такого количества эпизодов не хватает для того, чтобы агент сошелся"
   ]
  },
  {
   "cell_type": "markdown",
   "metadata": {},
   "source": [
    "## Часть вторая: добавим нейронных сетей"
   ]
  },
  {
   "cell_type": "markdown",
   "metadata": {},
   "source": [
    "Реализуйте нейронную сеть для метода DQN на доске для крестиков-ноликов. Не буду ограничивать фантазию, но кажется, что свёртки 3х3 здесь должны неплохо работать (в том числе обобщаться на доски размера побольше).\n",
    "\n",
    "1) Реализуйте DQN с нейронной сетью, обучите стратегии крестиков и ноликов. Замечание: скорее всего, experience replay потребуется сразу же.\n",
    "\n",
    "2) Реализуйте Double DQN и/или Dueling DQN.\n"
   ]
  },
  {
   "cell_type": "code",
   "execution_count": 6,
   "metadata": {},
   "outputs": [],
   "source": [
    "import torch\n",
    "import torch.nn as nn\n",
    "import torch.optim as optim\n",
    "import torch.nn.functional as F\n",
    "import torchvision.transforms as T\n",
    "from torch.autograd import Variable\n",
    "from collections import deque"
   ]
  },
  {
   "cell_type": "markdown",
   "metadata": {},
   "source": [
    "### 1) Реализуйте DQN с нейронной сетью, обучите стратегии крестиков и ноликов. Замечание: скорее всего, experience replay потребуется сразу же."
   ]
  },
  {
   "cell_type": "markdown",
   "metadata": {},
   "source": [
    "Реализуем сеть DQN и агента с experience replay. Experience replay построим на основе collections.deque, он позволяет задать максимальную длину и сам зациклится и будет - как раз это и нужно, а тут работает из коробки"
   ]
  },
  {
   "cell_type": "code",
   "execution_count": 7,
   "metadata": {},
   "outputs": [],
   "source": [
    "BUF_SIZE = 512\n",
    "N_COLS_ROWS_WINS = 3\n",
    "\n",
    "class DQN(nn.Module):\n",
    "    def __init__(self, dim=512, kernel_size=(3,3), n_channels=N_COLS_ROWS_WINS, out_channels=N_COLS_ROWS_WINS * N_COLS_ROWS_WINS):\n",
    "        super().__init__()\n",
    "        \n",
    "        self.conv1 = nn.Conv2d(in_channels=n_channels, out_channels=dim, kernel_size=kernel_size)\n",
    "        self.fc1 = nn.Linear(dim, dim * 2)\n",
    "        self.fc2 = nn.Linear(dim * 2, dim)\n",
    "        self.fc3 = nn.Linear(dim, out_channels)     \n",
    "        \n",
    "    def forward(self, x):\n",
    "        x = F.relu(self.conv1(x)).squeeze(-1).squeeze(-1)\n",
    "        x = F.relu(self.fc1(x))\n",
    "        x = F.relu(self.fc2(x))\n",
    "        \n",
    "        return self.fc3(x)\n",
    "    \n",
    "\n",
    "class DQN_Agent:\n",
    "    def __init__(self, size, kernel_size=(3,3), n_channels=N_COLS_ROWS_WINS, out_channels=N_COLS_ROWS_WINS * N_COLS_ROWS_WINS):\n",
    "        self.size = size\n",
    "        self.replay_buffer = deque(maxlen=BUF_SIZE)\n",
    "        self.state = None\n",
    "        self.next_state = None\n",
    "        self.action = None\n",
    "        self.reward = None\n",
    "        self.model = DQN()\n",
    "        self.optim = optim.Adam(self.model.parameters(), lr=LR, weight_decay=WEIGHT_DECAY)\n",
    "    \n",
    "    def update_replay(self, transition):\n",
    "        self.replay_buffer.append((transition[0], transition[1], transition[2], transition[3]))\n",
    "        \n",
    "    def sample(self, batch_size):\n",
    "        return random.sample(self.replay_buffer, batch_size)\n",
    "    \n",
    "    def update(self, next_state, action, reward):\n",
    "        next_state_ = np.zeros((3,N_COLS_ROWS_WINS,N_COLS_ROWS_WINS))\n",
    "        next_state_[0,:,:] = (next_state == 1).astype(float)\n",
    "        next_state_[1,:,:] = (next_state == -1).astype(float)\n",
    "        next_state_[2,:,:] = (next_state == 0).astype(float)\n",
    "        if self.state is not None:\n",
    "            self.update_replay((self.state, next_state_, self.action, reward))\n",
    "            \n",
    "        self.state = next_state_\n",
    "        self.action = action\n",
    "        \n",
    "        \n",
    "        \n",
    "    \n",
    "    "
   ]
  },
  {
   "cell_type": "markdown",
   "metadata": {},
   "source": [
    "Будем опять обучать играть агентов против случайного соперника"
   ]
  },
  {
   "cell_type": "code",
   "execution_count": 13,
   "metadata": {},
   "outputs": [],
   "source": [
    "import random  \n",
    "from IPython import display\n",
    "from ipywidgets import Output\n",
    "\n",
    "\n",
    "env = TicTacToe(n_rows=N_COLS_ROWS_WINS, n_cols=N_COLS_ROWS_WINS, n_win=N_COLS_ROWS_WINS)    \n",
    "LR = 1e-6\n",
    "WEIGHT_DECAY = 1e-9\n",
    "HIDDEN_SIZE = 512\n",
    "batch_size = 128\n",
    "criterion = F.l1_loss\n",
    "\n",
    "tic_agent = DQN_Agent(size=HIDDEN_SIZE, n_channels=3, out_channels=N_COLS_ROWS_WINS*N_COLS_ROWS_WINS)\n",
    "tac_agent = DQN_Agent(size=HIDDEN_SIZE, n_channels=3, out_channels=N_COLS_ROWS_WINS*N_COLS_ROWS_WINS)\n",
    "\n",
    "n_epochs = 10000\n",
    "\n",
    "def DQN_train(env, tic_agent, tac_agent, criterion, n_epochs):\n",
    "    rews1 = list()\n",
    "    rews2 = list()\n",
    "\n",
    "    rew_cum1 = 0\n",
    "    rew_cum2 = 0\n",
    "\n",
    "    eps = 0.5\n",
    "    gamma = 0.9\n",
    "\n",
    "    history_rews1 = list()\n",
    "    history_rews2 = list()\n",
    "    y_rews = list()\n",
    "\n",
    "    out = Output()\n",
    "    display.display(out)\n",
    "    for i in tqdm(range(n_epochs)):\n",
    "\n",
    "        env.reset()\n",
    "        tic_agent.model.eval()\n",
    "        tac_agent.model.eval()\n",
    "        game_hash, empty_spaces, turn = env.getState()\n",
    "        state = env.board.copy()\n",
    "\n",
    "        user = 0\n",
    "        done=False\n",
    "\n",
    "        tic_agent.state = None\n",
    "        tic_agent.action = None\n",
    "\n",
    "        tac_agent.state = None\n",
    "        tac_agent.action = None\n",
    "\n",
    "        #Сэмплируем эпизод\n",
    "        while not done:\n",
    "            if random.random() < (1 - eps):\n",
    "                state_ = np.zeros((3,N_COLS_ROWS_WINS,N_COLS_ROWS_WINS))\n",
    "                state_[0,:,:] = (state == 1).astype(float)\n",
    "                state_[1,:,:] = (state == -1).astype(float)\n",
    "                state_[2,:,:] = (state == 0).astype(float)\n",
    "                state_ = torch.FloatTensor([state_])\n",
    "                if user == 0:\n",
    "                    #tic_agent.model.eval()\n",
    "                    action = tic_agent.model(state_).detach().max(1)[1][0].item()\n",
    "\n",
    "                else:\n",
    "                    #tac_agent.model.eval()\n",
    "                    action = tac_agent.model(state_).detach().max(1)[1][0].item()                \n",
    "\n",
    "            else:\n",
    "                possible_states = np.where(np.array(list(game_hash)) == '1')[0]\n",
    "                action = random.choice(possible_states)\n",
    "\n",
    "            if user == 0:\n",
    "                tic_agent.update(state, action, 0)\n",
    "            else:\n",
    "                tac_agent.update(state, action, 0)       \n",
    "\n",
    "            (game_hash, empty_spaces, turn), reward , done, _ = env.step(env.action_from_int(action))\n",
    "            state = env.board.copy()     \n",
    "\n",
    "            if not done:\n",
    "                user = 0 if user == 1 else 1    \n",
    "\n",
    "        #Добавляем опыт в experience replay\n",
    "        if reward == -10:\n",
    "            if user == 0:\n",
    "                tic_agent.update(state, action, reward)\n",
    "            else:\n",
    "                tac_agent.update(state, action, reward)\n",
    "        else:    \n",
    "            tic_agent.update(state, action, reward)\n",
    "            tac_agent.update(state, action, -reward)               \n",
    "\n",
    "        \n",
    "        #Будем обновлять только с того момента, как наш буффер заполнится. На самом деле здесь можно было поступить по другому\n",
    "        #и изначально насэмплировать буффер на необученном агенте\n",
    "        if len(tic_agent.replay_buffer) >= batch_size:\n",
    "            states, next_states, actions, rewards = list(zip(*tic_agent.sample(batch_size)))\n",
    "\n",
    "\n",
    "            batch_state = torch.FloatTensor(states)\n",
    "            batch_next_state = torch.FloatTensor(next_states)\n",
    "            batch_actions = torch.LongTensor(actions)\n",
    "            batch_reward = torch.FloatTensor(rewards)\n",
    "\n",
    "            tic_agent.model.train()\n",
    "            Q = tic_agent.model(batch_state).gather(1, batch_actions.view(-1, 1)).flatten()\n",
    "            Qmax = tic_agent.model(batch_next_state).detach().max(dim=1)[0]\n",
    "            Qnext = batch_reward + (gamma * Qmax)\n",
    "\n",
    "            loss = criterion(Q, Qnext)\n",
    "\n",
    "\n",
    "            loss.backward()\n",
    "            tic_agent.optim.step()\n",
    "            tic_agent.optim.zero_grad()   \n",
    "\n",
    "            rews1.append(loss.item())\n",
    "\n",
    "        if len(tac_agent.replay_buffer) >= batch_size:\n",
    "            states, next_states, actions, rewards = list(zip(*tac_agent.sample(batch_size)))\n",
    "\n",
    "\n",
    "            batch_state = torch.FloatTensor(states)\n",
    "            batch_next_state = torch.FloatTensor(next_states)\n",
    "            batch_actions = torch.LongTensor(actions)\n",
    "            batch_reward = torch.FloatTensor(rewards)\n",
    "\n",
    "            tac_agent.model.train()\n",
    "            Q = tac_agent.model(batch_state).gather(1, batch_actions.view(-1, 1)).flatten()\n",
    "            Qmax = tac_agent.model(batch_next_state).detach().max(dim=1)[0]\n",
    "            Qnext = batch_reward + (gamma * Qmax)\n",
    "\n",
    "            loss = criterion(Q, Qnext)\n",
    "\n",
    "\n",
    "            loss.backward()\n",
    "            tac_agent.optim.step()\n",
    "            tac_agent.optim.zero_grad()   \n",
    "\n",
    "            rews2.append(loss.item())\n",
    "        \n",
    "        #Попробуем сыграть по очереди за крестиков и за ноликов\n",
    "        if (i + 1) % 100 == 0:\n",
    "\n",
    "            tic_agent.model.eval()\n",
    "            tac_agent.model.eval()\n",
    "\n",
    "            rews1 = list()\n",
    "            rews2 = list()\n",
    "\n",
    "            n_hands = 128\n",
    "\n",
    "            for j in range(n_hands):\n",
    "                env.reset()\n",
    "                game_hash, empty_spaces, turn = env.getState()\n",
    "                state = env.board\n",
    "                done = False        \n",
    "                user = 0\n",
    "\n",
    "                while not done:\n",
    "                    if user == 0:\n",
    "                        state_ = np.zeros((3,N_COLS_ROWS_WINS,N_COLS_ROWS_WINS))\n",
    "                        state_[0,:,:] = (state == 1).astype(float)\n",
    "                        state_[1,:,:] = (state == -1).astype(float)\n",
    "                        state_[2,:,:] = (state == 0).astype(float)                    \n",
    "                        state_ = torch.FloatTensor([state_])\n",
    "                        action = tic_agent.model(state_).detach().max(1)[1][0].item()\n",
    "                    else:\n",
    "                        possible_states = np.where(np.array(list(game_hash)) == '1')[0]\n",
    "                        action = random.choice(possible_states) \n",
    "\n",
    "                    (game_hash, empty_spaces, turn), reward , done, _ = env.step(env.action_from_int(action))\n",
    "                    state = env.board.copy()     \n",
    "\n",
    "                    if not done:\n",
    "                        user = 0 if user == 1 else 1    \n",
    "\n",
    "                if reward == -1 or reward == -10:\n",
    "                    reward = 0\n",
    "\n",
    "                rews1.append(reward)\n",
    "\n",
    "                env.reset()\n",
    "                game_hash, empty_spaces, turn = env.getState()\n",
    "                state = env.board\n",
    "                done = False        \n",
    "                user = 0\n",
    "\n",
    "                while not done:\n",
    "                    if user == 1:\n",
    "                        state_ = np.zeros((3,N_COLS_ROWS_WINS,N_COLS_ROWS_WINS))\n",
    "                        state_[0,:,:] = (state == 1).astype(float)\n",
    "                        state_[1,:,:] = (state == -1).astype(float)\n",
    "                        state_[2,:,:] = (state == 0).astype(float)                    \n",
    "                        state_ = torch.FloatTensor([state_])\n",
    "                        action = tac_agent.model(state_).detach().max(1)[1][0].item()\n",
    "                    else:\n",
    "                        possible_states = np.where(np.array(list(game_hash)) == '1')[0]\n",
    "                        action = random.choice(possible_states) \n",
    "\n",
    "                    (game_hash, empty_spaces, turn), reward , done, _ = env.step(env.action_from_int(action))\n",
    "                    state = env.board.copy() \n",
    "                    reward *= -1\n",
    "\n",
    "                    if not done:\n",
    "                        user = 0 if user == 1 else 1    \n",
    "\n",
    "                if reward == -1 or reward == 10:\n",
    "                    reward = 0\n",
    "                \n",
    "\n",
    "                rews2.append(reward)  \n",
    "\n",
    "            #if np.mean(rews1) > 0 or np.mean(rews2) > 0:\n",
    "            #    print(np.mean(rews1), np.mean(rews2))\n",
    "\n",
    "            history_rews1.append(np.mean(rews1))\n",
    "            history_rews2.append(np.mean(rews2))\n",
    "            y_rews.append(i)\n",
    "            with out:\n",
    "                display.clear_output(wait=True)\n",
    "                plt.title(\"DQN, iteration \" + str(i))\n",
    "                plt.plot(y_rews, history_rews1, label='tic')\n",
    "                plt.plot(y_rews, history_rews2, label='tac')\n",
    "                plt.legend()\n",
    "                plt.draw()\n",
    "                plt.pause(0.05)\n",
    "    \n",
    "    return history_rews1, history_rews2, y_rews"
   ]
  },
  {
   "cell_type": "code",
   "execution_count": 14,
   "metadata": {},
   "outputs": [
    {
     "data": {
      "text/plain": [
       "DQN(\n",
       "  (conv1): Conv2d(3, 512, kernel_size=(3, 3), stride=(1, 1))\n",
       "  (fc1): Linear(in_features=512, out_features=1024, bias=True)\n",
       "  (fc2): Linear(in_features=1024, out_features=512, bias=True)\n",
       "  (fc3): Linear(in_features=512, out_features=9, bias=True)\n",
       ")"
      ]
     },
     "execution_count": 14,
     "metadata": {},
     "output_type": "execute_result"
    }
   ],
   "source": [
    "tic_agent.model"
   ]
  },
  {
   "cell_type": "code",
   "execution_count": 15,
   "metadata": {},
   "outputs": [
    {
     "data": {
      "application/vnd.jupyter.widget-view+json": {
       "model_id": "76588262924d44d1ba7aac161bc3e61a",
       "version_major": 2,
       "version_minor": 0
      },
      "text/plain": [
       "Output()"
      ]
     },
     "metadata": {},
     "output_type": "display_data"
    },
    {
     "data": {
      "application/vnd.jupyter.widget-view+json": {
       "model_id": "a8a3ab063869428294f9713a0eec0da9",
       "version_major": 2,
       "version_minor": 0
      },
      "text/plain": [
       "HBox(children=(FloatProgress(value=0.0, max=10000.0), HTML(value='')))"
      ]
     },
     "metadata": {},
     "output_type": "display_data"
    },
    {
     "name": "stdout",
     "output_type": "stream",
     "text": [
      "\n"
     ]
    }
   ],
   "source": [
    "rews1, rews2, y_rews = DQN_train(env, tic_agent, tac_agent, criterion, n_epochs)"
   ]
  },
  {
   "cell_type": "markdown",
   "metadata": {},
   "source": [
    "Крестики против случайного соперника"
   ]
  },
  {
   "cell_type": "code",
   "execution_count": 20,
   "metadata": {},
   "outputs": [
    {
     "data": {
      "text/plain": [
       "[<matplotlib.lines.Line2D at 0xcbd3a90>]"
      ]
     },
     "execution_count": 20,
     "metadata": {},
     "output_type": "execute_result"
    },
    {
     "data": {
      "image/png": "[encoded data removed]",
      "text/plain": [
       "<Figure size 432x288 with 1 Axes>"
      ]
     },
     "metadata": {
      "needs_background": "light"
     },
     "output_type": "display_data"
    }
   ],
   "source": [
    "plt.plot(y_rews, rews1)"
   ]
  },
  {
   "cell_type": "markdown",
   "metadata": {},
   "source": [
    "Нолики против случайного соперника"
   ]
  },
  {
   "cell_type": "code",
   "execution_count": 19,
   "metadata": {},
   "outputs": [
    {
     "data": {
      "text/plain": [
       "[<matplotlib.lines.Line2D at 0xcbba400>]"
      ]
     },
     "execution_count": 19,
     "metadata": {},
     "output_type": "execute_result"
    },
    {
     "data": {
      "image/png": "[encoded data removed]",
      "text/plain": [
       "<Figure size 432x288 with 1 Axes>"
      ]
     },
     "metadata": {
      "needs_background": "light"
     },
     "output_type": "display_data"
    }
   ],
   "source": [
    "plt.plot(y_rews, rews2)"
   ]
  },
  {
   "cell_type": "markdown",
   "metadata": {},
   "source": [
    "Попробуем обучить агентов для доски 4x4"
   ]
  },
  {
   "cell_type": "code",
   "execution_count": 21,
   "metadata": {},
   "outputs": [],
   "source": [
    "N_COLS_ROWS_WINS = 4\n",
    "\n",
    "class DQN(nn.Module):\n",
    "    def __init__(self, dim_1=32, dim_2=256):\n",
    "        super().__init__()\n",
    "        self.conv1 = nn.Conv2d(in_channels=3, out_channels=dim_1, kernel_size=(3, 3))\n",
    "        self.conv2 = nn.Conv2d(in_channels=dim_1, out_channels=dim_2, kernel_size=(2, 2))\n",
    "        self.fc1 = nn.Linear(dim_2, dim_2 * 2)\n",
    "        self.fc2 = nn.Linear(dim_2 * 2, dim_2 * 2)\n",
    "        self.fc3 = nn.Linear(dim_2 * 2, N_COLS_ROWS_WINS * N_COLS_ROWS_WINS)\n",
    "        \n",
    "    def forward(self, x):\n",
    "        x = F.relu(self.conv1(x))\n",
    "        x = F.relu(self.conv2(x)).squeeze(-1).squeeze(-1)\n",
    "        x = F.relu(self.fc1(x))\n",
    "        x = F.relu(self.fc2(x))\n",
    "        \n",
    "        return self.fc3(x) "
   ]
  },
  {
   "cell_type": "code",
   "execution_count": 22,
   "metadata": {},
   "outputs": [
    {
     "data": {
      "text/plain": [
       "DQN(\n",
       "  (conv1): Conv2d(3, 512, kernel_size=(3, 3), stride=(1, 1))\n",
       "  (fc1): Linear(in_features=512, out_features=1024, bias=True)\n",
       "  (fc2): Linear(in_features=1024, out_features=512, bias=True)\n",
       "  (fc3): Linear(in_features=512, out_features=9, bias=True)\n",
       ")"
      ]
     },
     "execution_count": 22,
     "metadata": {},
     "output_type": "execute_result"
    }
   ],
   "source": [
    "tic_agent.model"
   ]
  },
  {
   "cell_type": "code",
   "execution_count": 23,
   "metadata": {
    "scrolled": false
   },
   "outputs": [
    {
     "data": {
      "application/vnd.jupyter.widget-view+json": {
       "model_id": "d5dbdf97e0da4c5db1a7aa67f956be9e",
       "version_major": 2,
       "version_minor": 0
      },
      "text/plain": [
       "Output()"
      ]
     },
     "metadata": {},
     "output_type": "display_data"
    },
    {
     "data": {
      "application/vnd.jupyter.widget-view+json": {
       "model_id": "dc6335d746944391b04f9783ed7ba3ec",
       "version_major": 2,
       "version_minor": 0
      },
      "text/plain": [
       "HBox(children=(FloatProgress(value=0.0, max=10000.0), HTML(value='')))"
      ]
     },
     "metadata": {},
     "output_type": "display_data"
    },
    {
     "name": "stdout",
     "output_type": "stream",
     "text": [
      "\n"
     ]
    }
   ],
   "source": [
    "env = TicTacToe(n_rows=N_COLS_ROWS_WINS, n_cols=N_COLS_ROWS_WINS, n_win=N_COLS_ROWS_WINS)    \n",
    "LR = 1e-5\n",
    "WEIGHT_DECAY = 1e-9\n",
    "HIDDEN_SIZE = 512\n",
    "batch_size = 128\n",
    "criterion = F.l1_loss\n",
    "\n",
    "tic_agent = DQN_Agent(size=HIDDEN_SIZE, n_channels=3, out_channels=N_COLS_ROWS_WINS*N_COLS_ROWS_WINS)\n",
    "tac_agent = DQN_Agent(size=HIDDEN_SIZE, n_channels=3, out_channels=N_COLS_ROWS_WINS*N_COLS_ROWS_WINS)\n",
    "\n",
    "n_epochs = 10000\n",
    "\n",
    "rews1, rews2, y_rews = DQN_train(env, tic_agent, tac_agent, criterion, n_epochs)"
   ]
  },
  {
   "cell_type": "markdown",
   "metadata": {},
   "source": [
    "Крестики про случайного соперника"
   ]
  },
  {
   "cell_type": "code",
   "execution_count": 24,
   "metadata": {},
   "outputs": [
    {
     "data": {
      "text/plain": [
       "[<matplotlib.lines.Line2D at 0xcc406d0>]"
      ]
     },
     "execution_count": 24,
     "metadata": {},
     "output_type": "execute_result"
    },
    {
     "data": {
      "image/png": "[encoded data removed]",
      "text/plain": [
       "<Figure size 432x288 with 1 Axes>"
      ]
     },
     "metadata": {
      "needs_background": "light"
     },
     "output_type": "display_data"
    }
   ],
   "source": [
    "plt.plot(y_rews, rews1)"
   ]
  },
  {
   "cell_type": "markdown",
   "metadata": {},
   "source": [
    "Нолики против случайного соперника"
   ]
  },
  {
   "cell_type": "code",
   "execution_count": 25,
   "metadata": {},
   "outputs": [
    {
     "data": {
      "text/plain": [
       "[<matplotlib.lines.Line2D at 0x5852cd0>]"
      ]
     },
     "execution_count": 25,
     "metadata": {},
     "output_type": "execute_result"
    },
    {
     "data": {
      "image/png": "[encoded data removed]",
      "text/plain": [
       "<Figure size 432x288 with 1 Axes>"
      ]
     },
     "metadata": {
      "needs_background": "light"
     },
     "output_type": "display_data"
    }
   ],
   "source": [
    "plt.plot(y_rews, rews2)"
   ]
  },
  {
   "cell_type": "markdown",
   "metadata": {},
   "source": [
    "### 2. Реализуйте Double DQN и/или Dueling DQN."
   ]
  },
  {
   "cell_type": "markdown",
   "metadata": {},
   "source": [
    "Реализуем Dueling DQN, для этого нам понадобится 2 сети: первая будет считать Value function, а вторая Advantage."
   ]
  },
  {
   "cell_type": "code",
   "execution_count": 26,
   "metadata": {},
   "outputs": [],
   "source": [
    "N_COLS_ROWS_WINS = 3\n",
    "\n",
    "class Value(nn.Module):\n",
    "    def __init__(self, hidden_size=256):\n",
    "        super().__init__()\n",
    "        self.fc1 = nn.Linear(hidden_size, hidden_size * 2)\n",
    "        self.fc2 = nn.Linear(hidden_size * 2, hidden_size * 2)\n",
    "        self.fc3 = nn.Linear(hidden_size * 2, 1)\n",
    "        \n",
    "    def forward(self, x):\n",
    "        x = F.relu(self.fc1(x))\n",
    "        x = F.relu(self.fc2(x))\n",
    "        \n",
    "        return F.relu(self.fc3(x))\n",
    "    \n",
    "class Advantage(nn.Module):\n",
    "    def __init__(self, hidden_size=256):\n",
    "        super().__init__()\n",
    "        self.fc1 = nn.Linear(hidden_size, hidden_size * 2)\n",
    "        self.fc2 = nn.Linear(hidden_size * 2, hidden_size * 2)\n",
    "        self.fc3 = nn.Linear(hidden_size * 2, N_COLS_ROWS_WINS * N_COLS_ROWS_WINS)\n",
    "        \n",
    "    def forward(self, x):\n",
    "        x = F.relu(self.fc1(x))\n",
    "        x = F.relu(self.fc2(x))\n",
    "        \n",
    "        return F.relu(self.fc3(x))\n",
    "\n",
    "\n",
    "class DQN(nn.Module):\n",
    "    def __init__(self, hidden_size=256):\n",
    "        super().__init__()\n",
    "        self.conv = nn.Conv2d(in_channels=3, out_channels=hidden_size, kernel_size=(3, 3))  \n",
    "        self.value = Value()\n",
    "        self.advantage = Advantage()\n",
    "        \n",
    "        \n",
    "    def forward(self, x):\n",
    "        x = F.relu(self.conv(x)).squeeze(-1).squeeze(-1)\n",
    "        advantage = self.advantage(x)\n",
    "        value = self.value(x)\n",
    "        return value + (advantage - advantage.mean(dim=1, keepdim=True).expand(x.size(0), N_COLS_ROWS_WINS * N_COLS_ROWS_WINS))"
   ]
  },
  {
   "cell_type": "code",
   "execution_count": 27,
   "metadata": {},
   "outputs": [
    {
     "data": {
      "application/vnd.jupyter.widget-view+json": {
       "model_id": "107bd66ecc0a44318ce9be0f56b410e4",
       "version_major": 2,
       "version_minor": 0
      },
      "text/plain": [
       "Output()"
      ]
     },
     "metadata": {},
     "output_type": "display_data"
    },
    {
     "data": {
      "application/vnd.jupyter.widget-view+json": {
       "model_id": "725a33f36e004fbaa20c04e249a89120",
       "version_major": 2,
       "version_minor": 0
      },
      "text/plain": [
       "HBox(children=(FloatProgress(value=0.0, max=10000.0), HTML(value='')))"
      ]
     },
     "metadata": {},
     "output_type": "display_data"
    },
    {
     "name": "stdout",
     "output_type": "stream",
     "text": [
      "\n"
     ]
    }
   ],
   "source": [
    "env = TicTacToe(n_rows=N_COLS_ROWS_WINS, n_cols=N_COLS_ROWS_WINS, n_win=N_COLS_ROWS_WINS)    \n",
    "LR = 1e-5\n",
    "WEIGHT_DECAY = 1e-9\n",
    "HIDDEN_SIZE = 512\n",
    "batch_size = 128\n",
    "criterion = F.l1_loss\n",
    "\n",
    "tic_agent = DQN_Agent(size=HIDDEN_SIZE, n_channels=3, out_channels=N_COLS_ROWS_WINS*N_COLS_ROWS_WINS)\n",
    "tac_agent = DQN_Agent(size=HIDDEN_SIZE, n_channels=3, out_channels=N_COLS_ROWS_WINS*N_COLS_ROWS_WINS)\n",
    "\n",
    "n_epochs = 10000\n",
    "\n",
    "rews1, rews2, y_rews = DQN_train(env, tic_agent, tac_agent, criterion, n_epochs)"
   ]
  },
  {
   "cell_type": "markdown",
   "metadata": {},
   "source": [
    "Крестики против случайного соперника"
   ]
  },
  {
   "cell_type": "code",
   "execution_count": 28,
   "metadata": {},
   "outputs": [
    {
     "data": {
      "text/plain": [
       "[<matplotlib.lines.Line2D at 0x5791040>]"
      ]
     },
     "execution_count": 28,
     "metadata": {},
     "output_type": "execute_result"
    },
    {
     "data": {
      "image/png": "[encoded data removed]",
      "text/plain": [
       "<Figure size 432x288 with 1 Axes>"
      ]
     },
     "metadata": {
      "needs_background": "light"
     },
     "output_type": "display_data"
    }
   ],
   "source": [
    "plt.plot(y_rews, rews1)"
   ]
  },
  {
   "cell_type": "markdown",
   "metadata": {},
   "source": [
    "Нолики против случайного соперника"
   ]
  },
  {
   "cell_type": "code",
   "execution_count": 29,
   "metadata": {},
   "outputs": [
    {
     "data": {
      "text/plain": [
       "[<matplotlib.lines.Line2D at 0xfc89b80>]"
      ]
     },
     "execution_count": 29,
     "metadata": {},
     "output_type": "execute_result"
    },
    {
     "data": {
      "image/png": "[encoded data removed]",
      "text/plain": [
       "<Figure size 432x288 with 1 Axes>"
      ]
     },
     "metadata": {
      "needs_background": "light"
     },
     "output_type": "display_data"
    }
   ],
   "source": [
    "plt.plot(y_rews, rews2)"
   ]
  },
  {
   "cell_type": "markdown",
   "metadata": {},
   "source": [
    "Попробуем обучить Double DQN. Для этого в агента добавим target-сеть. Теперь максимум Q будем считать через нее. Target-сеть будем обновлять каждые N_UPDATE иттераций с помощью функции update_target_network"
   ]
  },
  {
   "cell_type": "code",
   "execution_count": 35,
   "metadata": {},
   "outputs": [],
   "source": [
    "class DQN_Agent:\n",
    "    def __init__(self, size, kernel_size=(3,3), n_channels=N_COLS_ROWS_WINS, out_channels=N_COLS_ROWS_WINS * N_COLS_ROWS_WINS):\n",
    "        self.size = size\n",
    "        self.replay_buffer = deque(maxlen=BUF_SIZE)\n",
    "        self.state = None\n",
    "        self.next_state = None\n",
    "        self.action = None\n",
    "        self.reward = None\n",
    "        self.model = DQN()\n",
    "        self.target_model = DQN()\n",
    "        self.optim = optim.Adam(self.model.parameters(), lr=LR, weight_decay=WEIGHT_DECAY)\n",
    "    \n",
    "    def update_replay(self, transition):\n",
    "        self.replay_buffer.append((transition[0], transition[1], transition[2], transition[3]))\n",
    "        \n",
    "    def sample(self, batch_size):\n",
    "        return random.sample(self.replay_buffer, batch_size)\n",
    "    \n",
    "    def update(self, next_state, action, reward):\n",
    "        next_state_ = np.zeros((3,N_COLS_ROWS_WINS,N_COLS_ROWS_WINS))\n",
    "        next_state_[0,:,:] = (next_state == 1).astype(float)\n",
    "        next_state_[1,:,:] = (next_state == -1).astype(float)\n",
    "        next_state_[2,:,:] = (next_state == 0).astype(float)\n",
    "        if self.state is not None:\n",
    "            self.update_replay((self.state, next_state_, self.action, reward))\n",
    "            \n",
    "        self.state = next_state_\n",
    "        self.action = action\n",
    "        \n",
    "    def update_target_network(self):\n",
    "        for target_param, local_param in zip(self.target_model.parameters(), self.model.parameters()):\n",
    "            target_param.data.copy_(local_param.data)\n",
    "        "
   ]
  },
  {
   "cell_type": "code",
   "execution_count": 42,
   "metadata": {},
   "outputs": [],
   "source": [
    "import random  \n",
    "from IPython import display\n",
    "from ipywidgets import Output\n",
    "\n",
    "\n",
    "env = TicTacToe(n_rows=N_COLS_ROWS_WINS, n_cols=N_COLS_ROWS_WINS, n_win=N_COLS_ROWS_WINS)\n",
    "N_UPDATE = 4\n",
    "LR = 1e-6\n",
    "WEIGHT_DECAY = 1e-9\n",
    "HIDDEN_SIZE = 512\n",
    "batch_size = 128\n",
    "criterion = F.l1_loss\n",
    "\n",
    "tic_agent = DQN_Agent(size=HIDDEN_SIZE, n_channels=3, out_channels=N_COLS_ROWS_WINS*N_COLS_ROWS_WINS)\n",
    "tac_agent = DQN_Agent(size=HIDDEN_SIZE, n_channels=3, out_channels=N_COLS_ROWS_WINS*N_COLS_ROWS_WINS)\n",
    "\n",
    "n_epochs = 10000\n",
    "\n",
    "def DQN_train(env, tic_agent, tac_agent, criterion, n_epochs):\n",
    "    rews1 = list()\n",
    "    rews2 = list()\n",
    "\n",
    "    rew_cum1 = 0\n",
    "    rew_cum2 = 0\n",
    "\n",
    "    eps = 0.5\n",
    "    gamma = 0.9\n",
    "\n",
    "    history_rews1 = list()\n",
    "    history_rews2 = list()\n",
    "    y_rews = list()\n",
    "\n",
    "    out = Output()\n",
    "    display.display(out)\n",
    "    for i in tqdm(range(n_epochs)):\n",
    "\n",
    "        env.reset()\n",
    "        tic_agent.model.eval()\n",
    "        tac_agent.model.eval()\n",
    "        game_hash, empty_spaces, turn = env.getState()\n",
    "        state = env.board.copy()\n",
    "\n",
    "        user = 0\n",
    "        done=False\n",
    "\n",
    "        tic_agent.state = None\n",
    "        tic_agent.action = None\n",
    "\n",
    "        tac_agent.state = None\n",
    "        tac_agent.action = None\n",
    "\n",
    "        #Сэмплируем эпизод\n",
    "        while not done:\n",
    "            if random.random() < (1 - eps):\n",
    "                state_ = np.zeros((3,N_COLS_ROWS_WINS,N_COLS_ROWS_WINS))\n",
    "                state_[0,:,:] = (state == 1).astype(float)\n",
    "                state_[1,:,:] = (state == -1).astype(float)\n",
    "                state_[2,:,:] = (state == 0).astype(float)\n",
    "                state_ = torch.FloatTensor([state_])\n",
    "                if user == 0:\n",
    "                    #tic_agent.model.eval()\n",
    "                    action = tic_agent.model(state_).detach().max(1)[1][0].item()\n",
    "\n",
    "                else:\n",
    "                    #tac_agent.model.eval()\n",
    "                    action = tac_agent.model(state_).detach().max(1)[1][0].item()                \n",
    "\n",
    "            else:\n",
    "                possible_states = np.where(np.array(list(game_hash)) == '1')[0]\n",
    "                action = random.choice(possible_states)\n",
    "\n",
    "            if user == 0:\n",
    "                tic_agent.update(state, action, 0)\n",
    "            else:\n",
    "                tac_agent.update(state, action, 0)       \n",
    "\n",
    "            (game_hash, empty_spaces, turn), reward , done, _ = env.step(env.action_from_int(action))\n",
    "            state = env.board.copy()     \n",
    "\n",
    "            if not done:\n",
    "                user = 0 if user == 1 else 1    \n",
    "\n",
    "        #Добавляем опыт в experience replay\n",
    "        if reward == -10:\n",
    "            if user == 0:\n",
    "                tic_agent.update(state, action, reward)\n",
    "            else:\n",
    "                tac_agent.update(state, action, reward)\n",
    "        else:    \n",
    "            tic_agent.update(state, action, reward)\n",
    "            tac_agent.update(state, action, -reward)               \n",
    "\n",
    "        \n",
    "        #Будем обновлять только с того момента, как наш буффер заполнится. На самом деле здесь можно было поступить по другому\n",
    "        #и изначально насэмплировать буффер на необученном агенте\n",
    "        if len(tic_agent.replay_buffer) >= batch_size:\n",
    "            states, next_states, actions, rewards = list(zip(*tic_agent.sample(batch_size)))\n",
    "\n",
    "\n",
    "            batch_state = torch.FloatTensor(states)\n",
    "            batch_next_state = torch.FloatTensor(next_states)\n",
    "            batch_actions = torch.LongTensor(actions)\n",
    "            batch_reward = torch.FloatTensor(rewards)\n",
    "            #Теперь считаем Q как обычно, а Qmax через target-сеть\n",
    "            tic_agent.model.train()\n",
    "            Q = tic_agent.model(batch_state).gather(1, batch_actions.view(-1, 1)).flatten()\n",
    "            Qmax = tic_agent.target_model(batch_next_state).detach().max(dim=1)[0]\n",
    "            Qnext = batch_reward + (gamma * Qmax)\n",
    "\n",
    "            loss = criterion(Q, Qnext)\n",
    "\n",
    "\n",
    "            loss.backward()\n",
    "            tic_agent.optim.step()\n",
    "            tic_agent.optim.zero_grad()   \n",
    "\n",
    "            rews1.append(loss.item())\n",
    "            \n",
    "            #Каждые четыре итерации обновляем пораметры target-сети\n",
    "            if i % N_UPDATE == 0:\n",
    "                tic_agent.update_target_network()\n",
    "\n",
    "        if len(tac_agent.replay_buffer) >= batch_size:\n",
    "            states, next_states, actions, rewards = list(zip(*tac_agent.sample(batch_size)))\n",
    "\n",
    "\n",
    "            batch_state = torch.FloatTensor(states)\n",
    "            batch_next_state = torch.FloatTensor(next_states)\n",
    "            batch_actions = torch.LongTensor(actions)\n",
    "            batch_reward = torch.FloatTensor(rewards)\n",
    "\n",
    "            tac_agent.model.train()\n",
    "            Q = tac_agent.model(batch_state).gather(1, batch_actions.view(-1, 1)).flatten()\n",
    "            Qmax = tac_agent.target_model(batch_next_state).detach().max(dim=1)[0]\n",
    "            Qnext = batch_reward + (gamma * Qmax)\n",
    "\n",
    "            loss = criterion(Q, Qnext)\n",
    "\n",
    "\n",
    "            loss.backward()\n",
    "            tac_agent.optim.step()\n",
    "            tac_agent.optim.zero_grad()   \n",
    "\n",
    "            rews2.append(loss.item())\n",
    "            \n",
    "            if i % N_UPDATE == 0:\n",
    "                tac_agent.update_target_network()        \n",
    "        #Попробуем сыграть по очереди за крестиков и за ноликов\n",
    "        if (i + 1) % 100 == 0:\n",
    "\n",
    "            tic_agent.model.eval()\n",
    "            tac_agent.model.eval()\n",
    "\n",
    "            rews1 = list()\n",
    "            rews2 = list()\n",
    "\n",
    "            n_hands = 128\n",
    "\n",
    "            for j in range(n_hands):\n",
    "                env.reset()\n",
    "                game_hash, empty_spaces, turn = env.getState()\n",
    "                state = env.board\n",
    "                done = False        \n",
    "                user = 0\n",
    "\n",
    "                while not done:\n",
    "                    if user == 0:\n",
    "                        state_ = np.zeros((3,N_COLS_ROWS_WINS,N_COLS_ROWS_WINS))\n",
    "                        state_[0,:,:] = (state == 1).astype(float)\n",
    "                        state_[1,:,:] = (state == -1).astype(float)\n",
    "                        state_[2,:,:] = (state == 0).astype(float)                    \n",
    "                        state_ = torch.FloatTensor([state_])\n",
    "                        action = tic_agent.model(state_).detach().max(1)[1][0].item()\n",
    "                    else:\n",
    "                        possible_states = np.where(np.array(list(game_hash)) == '1')[0]\n",
    "                        action = random.choice(possible_states) \n",
    "\n",
    "                    (game_hash, empty_spaces, turn), reward , done, _ = env.step(env.action_from_int(action))\n",
    "                    state = env.board.copy()     \n",
    "\n",
    "                    if not done:\n",
    "                        user = 0 if user == 1 else 1    \n",
    "\n",
    "                if reward == -1 or reward == -10:\n",
    "                    reward = 0\n",
    "\n",
    "                rews1.append(reward)\n",
    "\n",
    "                env.reset()\n",
    "                game_hash, empty_spaces, turn = env.getState()\n",
    "                state = env.board\n",
    "                done = False        \n",
    "                user = 0\n",
    "\n",
    "                while not done:\n",
    "                    if user == 1:\n",
    "                        state_ = np.zeros((3,N_COLS_ROWS_WINS,N_COLS_ROWS_WINS))\n",
    "                        state_[0,:,:] = (state == 1).astype(float)\n",
    "                        state_[1,:,:] = (state == -1).astype(float)\n",
    "                        state_[2,:,:] = (state == 0).astype(float)                    \n",
    "                        state_ = torch.FloatTensor([state_])\n",
    "                        action = tac_agent.model(state_).detach().max(1)[1][0].item()\n",
    "                    else:\n",
    "                        possible_states = np.where(np.array(list(game_hash)) == '1')[0]\n",
    "                        action = random.choice(possible_states) \n",
    "\n",
    "                    (game_hash, empty_spaces, turn), reward , done, _ = env.step(env.action_from_int(action))\n",
    "                    state = env.board.copy() \n",
    "                    reward *= -1\n",
    "\n",
    "                    if not done:\n",
    "                        user = 0 if user == 1 else 1    \n",
    "\n",
    "                if reward == -1 or reward == 10:\n",
    "                    reward = 0\n",
    "                \n",
    "\n",
    "                rews2.append(reward)  \n",
    "\n",
    "            #if np.mean(rews1) > 0 or np.mean(rews2) > 0:\n",
    "            #    print(np.mean(rews1), np.mean(rews2))\n",
    "\n",
    "            history_rews1.append(np.mean(rews1))\n",
    "            history_rews2.append(np.mean(rews2))\n",
    "            y_rews.append(i)\n",
    "            with out:\n",
    "                display.clear_output(wait=True)\n",
    "                plt.title(\"DQN, iteration \" + str(i))\n",
    "                plt.plot(y_rews, history_rews1, label='tic')\n",
    "                plt.plot(y_rews, history_rews2, label='tac')\n",
    "                plt.legend()\n",
    "                plt.draw()\n",
    "                plt.pause(0.05)\n",
    "    \n",
    "    return history_rews1, history_rews2, y_rews"
   ]
  },
  {
   "cell_type": "code",
   "execution_count": 41,
   "metadata": {},
   "outputs": [
    {
     "data": {
      "application/vnd.jupyter.widget-view+json": {
       "model_id": "77cbdf50725347ff891f3fd6017e1e05",
       "version_major": 2,
       "version_minor": 0
      },
      "text/plain": [
       "Output()"
      ]
     },
     "metadata": {},
     "output_type": "display_data"
    },
    {
     "data": {
      "application/vnd.jupyter.widget-view+json": {
       "model_id": "e2d44c40997547719d8950ca90cdf82b",
       "version_major": 2,
       "version_minor": 0
      },
      "text/plain": [
       "HBox(children=(FloatProgress(value=0.0, max=10000.0), HTML(value='')))"
      ]
     },
     "metadata": {},
     "output_type": "display_data"
    },
    {
     "name": "stdout",
     "output_type": "stream",
     "text": [
      "\n"
     ]
    }
   ],
   "source": [
    "env = TicTacToe(n_rows=N_COLS_ROWS_WINS, n_cols=N_COLS_ROWS_WINS, n_win=N_COLS_ROWS_WINS)    \n",
    "LR = 1e-5\n",
    "WEIGHT_DECAY = 1e-9\n",
    "HIDDEN_SIZE = 512\n",
    "batch_size = 128\n",
    "criterion = F.l1_loss\n",
    "\n",
    "tic_agent = DQN_Agent(size=HIDDEN_SIZE, n_channels=3, out_channels=N_COLS_ROWS_WINS*N_COLS_ROWS_WINS)\n",
    "tac_agent = DQN_Agent(size=HIDDEN_SIZE, n_channels=3, out_channels=N_COLS_ROWS_WINS*N_COLS_ROWS_WINS)\n",
    "\n",
    "n_epochs = 10000\n",
    "\n",
    "rews1, rews2, y_rews = DQN_train(env, tic_agent, tac_agent, criterion, n_epochs)"
   ]
  },
  {
   "cell_type": "markdown",
   "metadata": {},
   "source": [
    "Крестики против случайного соперника"
   ]
  },
  {
   "cell_type": "code",
   "execution_count": 43,
   "metadata": {},
   "outputs": [
    {
     "data": {
      "text/plain": [
       "[<matplotlib.lines.Line2D at 0xcbd4100>]"
      ]
     },
     "execution_count": 43,
     "metadata": {},
     "output_type": "execute_result"
    },
    {
     "data": {
      "image/png": "[encoded data removed]",
      "text/plain": [
       "<Figure size 432x288 with 1 Axes>"
      ]
     },
     "metadata": {
      "needs_background": "light"
     },
     "output_type": "display_data"
    }
   ],
   "source": [
    "plt.plot(y_rews, rews1)"
   ]
  },
  {
   "cell_type": "markdown",
   "metadata": {},
   "source": [
    "Нолики против случайного соперника"
   ]
  },
  {
   "cell_type": "code",
   "execution_count": 44,
   "metadata": {},
   "outputs": [
    {
     "data": {
      "text/plain": [
       "[<matplotlib.lines.Line2D at 0x570ea90>]"
      ]
     },
     "execution_count": 44,
     "metadata": {},
     "output_type": "execute_result"
    },
    {
     "data": {
      "image/png": "[encoded data removed]",
      "text/plain": [
       "<Figure size 432x288 with 1 Axes>"
      ]
     },
     "metadata": {
      "needs_background": "light"
     },
     "output_type": "display_data"
    }
   ],
   "source": [
    "plt.plot(y_rews, rews2)"
   ]
  },
  {
   "cell_type": "markdown",
   "metadata": {},
   "source": [
    "## Часть третья: расширим и углубим поиск"
   ]
  },
  {
   "cell_type": "markdown",
   "metadata": {},
   "source": [
    "Крестики-нолики -- это, конечно, далеко не го, и обычный альфа-бета поиск с отсечением здесь наверняка может работать идеально вплоть до довольно больших досок. Однако мы всё-таки для этого учебного задания будем реализовывать более практически релевантный метод MCTS -- заодно фактически получится и упражнение на многоруких бандитов.\n",
    "\n",
    "5) Реализуйте rollouts со случайной стратегией и (опционально) rollouts с неслучайной, но простой стратегией (например, основанной на дополнении нескольких паттернов или на Q-функции, которая у вас получилась в первом пункте).\n",
    "\n",
    "6) Реализуйте MCTS-поиск с этими rollouts для крестиков-ноликов на досках разного размера, сравните полученные стратегии между собой и со стратегиями, обученными в первых двух частях.\n"
   ]
  },
  {
   "cell_type": "markdown",
   "metadata": {},
   "source": [
    "### 5) Реализуйте rollouts со случайной стратегией и (опционально) rollouts с неслучайной, но простой стратегией (например, основанной на дополнении нескольких паттернов или на Q-функции, которая у вас получилась в первом пункте)."
   ]
  },
  {
   "cell_type": "markdown",
   "metadata": {},
   "source": [
    "Реализуем Агента с rollouts"
   ]
  },
  {
   "cell_type": "code",
   "execution_count": 47,
   "metadata": {},
   "outputs": [],
   "source": [
    "from copy import deepcopy\n",
    "\n",
    "N_ROLLOUTS = 16\n",
    "\n",
    "class Agent_Rollouts(Agent):\n",
    "    def get_action(self, env, action_area):\n",
    "        tmp_env = deepcopy(env)\n",
    "        rewards = dict()\n",
    "        user = 0\n",
    "        for i in list(action_area):\n",
    "            entry_point_env = deepcopy(tmp_env)\n",
    "            state, reward, done, infos = entry_point_env.step(entry_point_env.action_from_int(i))\n",
    "            if not done:\n",
    "                res = list()\n",
    "                for j in range(N_ROLLOUTS):\n",
    "                    eval_user = 1\n",
    "                    evaluate_env = deepcopy(entry_point_env)\n",
    "                    eval_action_area = deepcopy(action_area)                    \n",
    "                    eval_action_area.remove(i)\n",
    "                    eval_done = False\n",
    "                \n",
    "                    while eval_done == False:\n",
    "                        eval_next_action = np.random.choice(list(eval_action_area))\n",
    "                        eval_action_area.remove(eval_next_action)      \n",
    "                        eval_state, eval_reward, eval_done, _ = evaluate_env.step(evaluate_env.action_from_int(eval_next_action))\n",
    "                \n",
    "                        if not eval_done:\n",
    "                            eval_user = 0 if eval_user == 1 else 1\n",
    "                \n",
    "                    if eval_user == 0:\n",
    "                        res.append(eval_reward)\n",
    "                    else:\n",
    "                        res.append(-eval_reward)\n",
    "\n",
    "                rewards[i] = np.mean(res)\n",
    "                    \n",
    "            #print(i)\n",
    "            #entry_point_state.printBoard()\n",
    "            else:\n",
    "                rewards[i] = reward\n",
    "        return max(rewards, key=rewards.get)\n",
    "        "
   ]
  },
  {
   "cell_type": "code",
   "execution_count": 48,
   "metadata": {},
   "outputs": [],
   "source": [
    "def sample_episode(env, agent, n_batches=32):\n",
    "    rewards = list()\n",
    "    for i in range(n_batches):\n",
    "        env.reset()\n",
    "        state = env.state_to_array()\n",
    "        action_area = set(np.arange(env.n_rows * env.n_cols)) \n",
    "\n",
    "        user = 0\n",
    "        done = False\n",
    "        while not done:\n",
    "            if user == 0:\n",
    "                next_action = agent.get_action(env, action_area)\n",
    "                action_area.remove(next_action)\n",
    "                state, reward, done, infos = env.step(env.action_from_int(next_action))\n",
    "                #env.printBoard()\n",
    "\n",
    "            else:\n",
    "                next_action = np.random.choice(list(action_area))\n",
    "                action_area.remove(next_action)   \n",
    "                state, reward, done, infos = env.step(env.action_from_int(next_action))\n",
    "                #env.printBoard()\n",
    "\n",
    "            if not done:\n",
    "                user = 0 if user == 1 else 1    \n",
    "            else:\n",
    "                #if reward == 0:\n",
    "                #    reward = 0.5\n",
    "            \n",
    "                rewards.append(reward)\n",
    "\n",
    "    return np.mean(rewards)"
   ]
  },
  {
   "cell_type": "code",
   "execution_count": 26,
   "metadata": {},
   "outputs": [
    {
     "data": {
      "application/vnd.jupyter.widget-view+json": {
       "model_id": "c1225bef4c6a478e97e5e6548fa261b6",
       "version_major": 2,
       "version_minor": 0
      },
      "text/plain": [
       "HBox(children=(IntProgress(value=0, max=1000), HTML(value='')))"
      ]
     },
     "metadata": {},
     "output_type": "display_data"
    },
    {
     "name": "stdout",
     "output_type": "stream",
     "text": [
      "\n",
      "Победы:  0.752  Ничьи:  0.0  Поражения:  0.248\n"
     ]
    }
   ],
   "source": [
    "n_episodes = 1000\n",
    "N_COLS_ROWS_WINS = 3\n",
    "env = TicTacToe(n_rows=N_COLS_ROWS_WINS, n_cols=N_COLS_ROWS_WINS, n_win=N_COLS_ROWS_WINS)    \n",
    "\n",
    "rews = list()\n",
    "rews_cum = list()\n",
    "rew_c = 0\n",
    "\n",
    "statistics = defaultdict(int)\n",
    "agent = Agent_Rollouts()\n",
    "\n",
    "for i in tqdm(range(n_episodes)):\n",
    "    \n",
    "    rew = sample_episode(env, agent, n_batches=1)\n",
    "    statistics[rew] += 1\n",
    "    rew_c += rew\n",
    "\n",
    "    rews.append(rew)\n",
    "    rews_cum.append(rew_c / (i+1))\n",
    "\n",
    "    \n",
    "print('Победы: ', statistics[1] / n_episodes, ' Ничьи: ', statistics[0] / n_episodes, ' Поражения: ', statistics[-1] / n_episodes)"
   ]
  },
  {
   "cell_type": "markdown",
   "metadata": {},
   "source": [
    "Крестики против случайного соперника"
   ]
  },
  {
   "cell_type": "code",
   "execution_count": 27,
   "metadata": {},
   "outputs": [
    {
     "data": {
      "text/plain": [
       "[<matplotlib.lines.Line2D at 0x1bbc3ca5c48>]"
      ]
     },
     "execution_count": 27,
     "metadata": {},
     "output_type": "execute_result"
    },
    {
     "data": {
      "image/png": "[encoded data removed]",
      "text/plain": [
       "<Figure size 432x288 with 1 Axes>"
      ]
     },
     "metadata": {
      "needs_background": "light"
     },
     "output_type": "display_data"
    }
   ],
   "source": [
    "plt.plot(rews_cum)"
   ]
  },
  {
   "cell_type": "markdown",
   "metadata": {},
   "source": [
    "Теперь попробуем реализовать rollout с использованием обученной q-функции"
   ]
  },
  {
   "cell_type": "code",
   "execution_count": 93,
   "metadata": {},
   "outputs": [],
   "source": [
    "from copy import deepcopy\n",
    "\n",
    "N_ROLLOUTS = 16\n",
    "\n",
    "class Agent_Rollouts(Agent):\n",
    "    def __init__(self, Q_table, tag):\n",
    "        self.Q_table = Q_table\n",
    "        self.tag = tag\n",
    "        \n",
    "    def get_action(self, env, action_area):\n",
    "        tmp_env = deepcopy(env)\n",
    "        rewards = dict()\n",
    "        user = 0\n",
    "        for i in list(action_area):\n",
    "            entry_point_env = deepcopy(tmp_env)\n",
    "            state, reward, done, infos = entry_point_env.step(entry_point_env.action_from_int(i))\n",
    "            if not done:\n",
    "                res = list()\n",
    "                for j in range(N_ROLLOUTS):\n",
    "                    \n",
    "                    eval_user = 1\n",
    "                    evaluate_env = deepcopy(entry_point_env)\n",
    "                    eval_action_area = deepcopy(action_area)      \n",
    "                    eval_state = state\n",
    "                    eval_action_area.remove(i)\n",
    "                    eval_done = False\n",
    "                \n",
    "                    while eval_done == False:\n",
    "                        if eval_user == 0:\n",
    "                            posible_states = dict()\n",
    "                            eval_state = evaluate_env.state_to_array()\n",
    "                            for k in range(len(eval_state)):\n",
    "                                if eval_state[k] == 1:\n",
    "                                    new_state = eval_state.copy()\n",
    "                                    new_state[k] = self.tag\n",
    "                                    posible_states[tuple(new_state)] = self.Q_table[tuple(new_state)]\n",
    "\n",
    "                            next_action = list(max(posible_states, key=posible_states.get))#next_action = list(posible_states.keys())[np.argmax(max(posible_states, key=posible_states.get))]\n",
    "\n",
    "\n",
    "                            next_state = np.absolute(np.array(eval_state) - np.array(next_action))\n",
    "                           # print(eval_state)\n",
    "                            eval_next_action = np.argmax(next_state)   \n",
    "                        else:\n",
    "                            eval_next_action = np.random.choice(list(eval_action_area))\n",
    "\n",
    "                        eval_action_area.remove(eval_next_action)      \n",
    "                        eval_state, eval_reward, eval_done, _ = evaluate_env.step(evaluate_env.action_from_int(eval_next_action))\n",
    "\n",
    "                        if not eval_done:\n",
    "                            eval_user = 0 if eval_user == 1 else 1\n",
    "                \n",
    "                    if eval_user == 0:\n",
    "                        res.append(eval_reward)\n",
    "                    else:\n",
    "                        res.append(-eval_reward)\n",
    "\n",
    "                rewards[i] = np.mean(res)\n",
    "                    \n",
    "            #print(i)\n",
    "            #entry_point_state.printBoard()\n",
    "            else:\n",
    "                rewards[i] = reward\n",
    "        return max(rewards, key=rewards.get)\n",
    "        "
   ]
  },
  {
   "cell_type": "code",
   "execution_count": 96,
   "metadata": {},
   "outputs": [
    {
     "data": {
      "application/vnd.jupyter.widget-view+json": {
       "model_id": "8561b95554a540bf9e81431bb88686f7",
       "version_major": 2,
       "version_minor": 0
      },
      "text/plain": [
       "HBox(children=(IntProgress(value=0, max=1000), HTML(value='')))"
      ]
     },
     "metadata": {},
     "output_type": "display_data"
    },
    {
     "name": "stdout",
     "output_type": "stream",
     "text": [
      "\n",
      "Победы:  0.824  Ничьи:  0.002  Поражения:  0.174\n"
     ]
    }
   ],
   "source": [
    "n_episodes = 1000\n",
    "N_COLS_ROWS_WINS = 3\n",
    "env = TicTacToe(n_rows=N_COLS_ROWS_WINS, n_cols=N_COLS_ROWS_WINS, n_win=N_COLS_ROWS_WINS)    \n",
    "\n",
    "rews = list()\n",
    "rews_cum = list()\n",
    "rew_c = 0\n",
    "\n",
    "statistics = defaultdict(int)\n",
    "agent = Agent_Rollouts(agent_tic.Q_table, 2)\n",
    "\n",
    "for i in tqdm(range(n_episodes)):\n",
    "    \n",
    "    rew = sample_episode(env, agent, n_batches=1)\n",
    "    statistics[rew] += 1\n",
    "    rew_c += rew\n",
    "\n",
    "    rews.append(rew)\n",
    "    rews_cum.append(rew_c / (i+1))\n",
    "\n",
    "    \n",
    "print('Победы: ', statistics[1] / n_episodes, ' Ничьи: ', statistics[0] / n_episodes, ' Поражения: ', statistics[-1] / n_episodes)"
   ]
  },
  {
   "cell_type": "markdown",
   "metadata": {},
   "source": [
    "Крестики c q-функцией против случайного соперника"
   ]
  },
  {
   "cell_type": "code",
   "execution_count": 97,
   "metadata": {},
   "outputs": [
    {
     "data": {
      "text/plain": [
       "[<matplotlib.lines.Line2D at 0x1bbc63143c8>]"
      ]
     },
     "execution_count": 97,
     "metadata": {},
     "output_type": "execute_result"
    },
    {
     "data": {
      "image/png": "[encoded data removed]",
      "text/plain": [
       "<Figure size 432x288 with 1 Axes>"
      ]
     },
     "metadata": {
      "needs_background": "light"
     },
     "output_type": "display_data"
    }
   ],
   "source": [
    "plt.plot(rews_cum)"
   ]
  },
  {
   "cell_type": "code",
   "execution_count": null,
   "metadata": {},
   "outputs": [],
   "source": []
  }
 ],
 "metadata": {
  "kernelspec": {
   "display_name": "Python 3",
   "language": "python",
   "name": "python3"
  },
  "language_info": {
   "codemirror_mode": {
    "name": "ipython",
    "version": 3
   },
   "file_extension": ".py",
   "mimetype": "text/x-python",
   "name": "python",
   "nbconvert_exporter": "python",
   "pygments_lexer": "ipython3",
   "version": "3.7.4"
  }
 },
 "nbformat": 4,
 "nbformat_minor": 5
}
